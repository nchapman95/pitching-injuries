{
 "cells": [
  {
   "cell_type": "code",
   "execution_count": 347,
   "metadata": {},
   "outputs": [],
   "source": [
    "import pybaseball\n",
    "import pandas as pd\n",
    "import seaborn as sns\n",
    "import matplotlib.pyplot as plt\n",
    "import numpy as np\n",
    "\n",
    "pd.set_option('display.max_rows', 1600)\n",
    "pd.set_option('display.max_columns',1500)\n",
    "pd.set_option('display.width', 1500)"
   ]
  },
  {
   "cell_type": "code",
   "execution_count": 348,
   "metadata": {},
   "outputs": [],
   "source": [
    "injuries2 = pd.read_excel(\"/Users/nchapman/Documents/Documents/MSAS/spring_2020/MAT8406/Pitcher Injury Project/Injuries_Full.xlsx\")"
   ]
  },
  {
   "cell_type": "code",
   "execution_count": 349,
   "metadata": {},
   "outputs": [],
   "source": [
    "injuries2['Player'] =injuries2['Player'].str.upper()"
   ]
  },
  {
   "cell_type": "markdown",
   "metadata": {},
   "source": [
    "## Tommy John Injuries"
   ]
  },
  {
   "cell_type": "code",
   "execution_count": 350,
   "metadata": {},
   "outputs": [],
   "source": [
    "tj_injuries = pd.read_excel(\"Tommy John Surgery List (@MLBPlayerAnalys).xlsx\", dtype='object')\n",
    "mlb_injuries = tj_injuries[(tj_injuries['Level'] == 'MLB') & (tj_injuries['Position'] == 'P')]\n"
   ]
  },
  {
   "cell_type": "code",
   "execution_count": 351,
   "metadata": {},
   "outputs": [
    {
     "name": "stderr",
     "output_type": "stream",
     "text": [
      "/Users/nchapman/opt/anaconda3/lib/python3.7/site-packages/ipykernel_launcher.py:1: SettingWithCopyWarning: \n",
      "A value is trying to be set on a copy of a slice from a DataFrame.\n",
      "Try using .loc[row_indexer,col_indexer] = value instead\n",
      "\n",
      "See the caveats in the documentation: http://pandas.pydata.org/pandas-docs/stable/user_guide/indexing.html#returning-a-view-versus-a-copy\n",
      "  \"\"\"Entry point for launching an IPython kernel.\n",
      "/Users/nchapman/opt/anaconda3/lib/python3.7/site-packages/ipykernel_launcher.py:2: SettingWithCopyWarning: \n",
      "A value is trying to be set on a copy of a slice from a DataFrame.\n",
      "Try using .loc[row_indexer,col_indexer] = value instead\n",
      "\n",
      "See the caveats in the documentation: http://pandas.pydata.org/pandas-docs/stable/user_guide/indexing.html#returning-a-view-versus-a-copy\n",
      "  \n"
     ]
    }
   ],
   "source": [
    "mlb_injuries['Player'] = mlb_injuries['Player'].str.replace(\"Mark Leiter Jr.\",'Mark Leiter')\n",
    "mlb_injuries['Player'] = mlb_injuries['Player'].str.replace(\"Manuel Corpas\",'MANNY CORPAS')\n"
   ]
  },
  {
   "cell_type": "code",
   "execution_count": 352,
   "metadata": {},
   "outputs": [
    {
     "name": "stderr",
     "output_type": "stream",
     "text": [
      "/Users/nchapman/opt/anaconda3/lib/python3.7/site-packages/ipykernel_launcher.py:1: SettingWithCopyWarning: \n",
      "A value is trying to be set on a copy of a slice from a DataFrame.\n",
      "Try using .loc[row_indexer,col_indexer] = value instead\n",
      "\n",
      "See the caveats in the documentation: http://pandas.pydata.org/pandas-docs/stable/user_guide/indexing.html#returning-a-view-versus-a-copy\n",
      "  \"\"\"Entry point for launching an IPython kernel.\n"
     ]
    }
   ],
   "source": [
    "mlb_injuries['Player'] = mlb_injuries['Player'].str.strip()"
   ]
  },
  {
   "cell_type": "code",
   "execution_count": 353,
   "metadata": {},
   "outputs": [
    {
     "name": "stderr",
     "output_type": "stream",
     "text": [
      "/Users/nchapman/opt/anaconda3/lib/python3.7/site-packages/ipykernel_launcher.py:1: SettingWithCopyWarning: \n",
      "A value is trying to be set on a copy of a slice from a DataFrame.\n",
      "Try using .loc[row_indexer,col_indexer] = value instead\n",
      "\n",
      "See the caveats in the documentation: http://pandas.pydata.org/pandas-docs/stable/user_guide/indexing.html#returning-a-view-versus-a-copy\n",
      "  \"\"\"Entry point for launching an IPython kernel.\n"
     ]
    }
   ],
   "source": [
    "mlb_injuries['TJ Surgery Date'] = pd.to_datetime(mlb_injuries['TJ Surgery Date'])"
   ]
  },
  {
   "cell_type": "code",
   "execution_count": 354,
   "metadata": {},
   "outputs": [
    {
     "name": "stderr",
     "output_type": "stream",
     "text": [
      "/Users/nchapman/opt/anaconda3/lib/python3.7/site-packages/ipykernel_launcher.py:3: SettingWithCopyWarning: \n",
      "A value is trying to be set on a copy of a slice from a DataFrame.\n",
      "Try using .loc[row_indexer,col_indexer] = value instead\n",
      "\n",
      "See the caveats in the documentation: http://pandas.pydata.org/pandas-docs/stable/user_guide/indexing.html#returning-a-view-versus-a-copy\n",
      "  This is separate from the ipykernel package so we can avoid doing imports until\n"
     ]
    }
   ],
   "source": [
    "mlb_injuries['surgery_year'] = [x.year - 1 if\n",
    "                                x.month < 6 else\n",
    "                                x.year for x in mlb_injuries['TJ Surgery Date']]"
   ]
  },
  {
   "cell_type": "code",
   "execution_count": 355,
   "metadata": {},
   "outputs": [
    {
     "name": "stderr",
     "output_type": "stream",
     "text": [
      "/Users/nchapman/opt/anaconda3/lib/python3.7/site-packages/ipykernel_launcher.py:1: SettingWithCopyWarning: \n",
      "A value is trying to be set on a copy of a slice from a DataFrame.\n",
      "Try using .loc[row_indexer,col_indexer] = value instead\n",
      "\n",
      "See the caveats in the documentation: http://pandas.pydata.org/pandas-docs/stable/user_guide/indexing.html#returning-a-view-versus-a-copy\n",
      "  \"\"\"Entry point for launching an IPython kernel.\n"
     ]
    }
   ],
   "source": [
    "mlb_injuries['Player'] = mlb_injuries['Player'].str.upper()"
   ]
  },
  {
   "cell_type": "code",
   "execution_count": 356,
   "metadata": {},
   "outputs": [],
   "source": [
    "mlb_injuries = mlb_injuries[['Player','surgery_year']]"
   ]
  },
  {
   "cell_type": "code",
   "execution_count": 357,
   "metadata": {},
   "outputs": [],
   "source": [
    "mlb_injuries['tj'] = 1"
   ]
  },
  {
   "cell_type": "code",
   "execution_count": 358,
   "metadata": {},
   "outputs": [],
   "source": [
    "def tj_injury(player, season):\n",
    "    if mlb_injuries[(mlb_injuries['Player'] == player) & \n",
    "                   (mlb_injuries['surgery_year'] < season)]['tj'].sum() > 0:\n",
    "        return 1\n",
    "    else:\n",
    "        return 0 "
   ]
  },
  {
   "cell_type": "code",
   "execution_count": 359,
   "metadata": {},
   "outputs": [],
   "source": [
    "def tj_injury_year(player, season):\n",
    "    \n",
    "    temp = mlb_injuries[(mlb_injuries['Player'] == player) & \n",
    "                   (mlb_injuries['surgery_year'] < season)]\n",
    "    \n",
    "    if temp['tj'].sum() > 0:\n",
    "        return temp[\"surgery_year\"].max()\n",
    "    else:\n",
    "        return 0 "
   ]
  },
  {
   "cell_type": "markdown",
   "metadata": {},
   "source": [
    "## Grab Pitcher Stats By Year"
   ]
  },
  {
   "cell_type": "code",
   "execution_count": 360,
   "metadata": {},
   "outputs": [],
   "source": [
    "#pitching_stats = pybaseball.pitching_stats(2000, 2020)\n",
    "pitching_stats = pd.read_csv(\"/Users/nchapman/Documents/Documents/MSAS/spring_2020/MAT8406/Pitcher Injury Project/pitching_stats_2009_2020.csv\")"
   ]
  },
  {
   "cell_type": "code",
   "execution_count": 361,
   "metadata": {},
   "outputs": [],
   "source": [
    "pitching_stats.to_csv(\"/Users/nchapman/Documents/Documents/MSAS/spring_2020/MAT8406/Pitcher Injury Project/pitching_stats_2009_2020.csv\",\n",
    "                     index=False)"
   ]
  },
  {
   "cell_type": "code",
   "execution_count": 362,
   "metadata": {},
   "outputs": [],
   "source": [
    "pitch_types = ['FB%', 'SL%', 'CT%', 'CB%', 'SF%', 'KN%']"
   ]
  },
  {
   "cell_type": "code",
   "execution_count": 363,
   "metadata": {},
   "outputs": [],
   "source": [
    "pitching_stats.sort_values(\"Season\", inplace=True)"
   ]
  },
  {
   "cell_type": "code",
   "execution_count": 364,
   "metadata": {},
   "outputs": [],
   "source": [
    "pitching_stats['Name'] = pitching_stats['Name'].str.upper()"
   ]
  },
  {
   "cell_type": "code",
   "execution_count": 365,
   "metadata": {},
   "outputs": [],
   "source": [
    "pitchers = pitching_stats.groupby(\"Name\").agg({\"Season\":\"min\"}).reset_index()\n",
    "\n",
    "pitchers_gt_2001 = pitchers[pitchers['Season'] >= 2001]"
   ]
  },
  {
   "cell_type": "code",
   "execution_count": 366,
   "metadata": {},
   "outputs": [],
   "source": [
    "pitches_injury = pd.merge(pitching_stats, injuries2,\n",
    "         left_on =['Name','Season'],\n",
    "         right_on = ['Player','Season'],\n",
    "        how='left')"
   ]
  },
  {
   "cell_type": "code",
   "execution_count": 367,
   "metadata": {},
   "outputs": [],
   "source": [
    "ps = pitches_injury.groupby(\"Name\").agg({\"Season\":pd.Series.nunique,\n",
    "                                        \"Age\":\"min\"})"
   ]
  },
  {
   "cell_type": "code",
   "execution_count": 368,
   "metadata": {},
   "outputs": [],
   "source": [
    "ps = ps.rename(columns={\"Season\":\"Num_Seasons\",\n",
    "                       \"Age\":\"first_age\"}).reset_index()"
   ]
  },
  {
   "cell_type": "code",
   "execution_count": 369,
   "metadata": {},
   "outputs": [],
   "source": [
    "pitches_injury = pitches_injury.merge(ps,on='Name')"
   ]
  },
  {
   "cell_type": "code",
   "execution_count": 370,
   "metadata": {},
   "outputs": [],
   "source": [
    "pitches_injury = pitches_injury[pitches_injury['Num_Seasons'] > 1]\n",
    "pitches_injury = pitches_injury[pitches_injury['first_age'] < 28]"
   ]
  },
  {
   "cell_type": "code",
   "execution_count": 371,
   "metadata": {},
   "outputs": [],
   "source": [
    "pitches_injury = pitches_injury[pitches_injury['Season'] >= 2002]"
   ]
  },
  {
   "cell_type": "code",
   "execution_count": 372,
   "metadata": {},
   "outputs": [],
   "source": [
    "pitches_injury[\"tj\"] = [tj_injury(x,y) for x,y in pitches_injury[['Name','Season']].itertuples(index=False)]"
   ]
  },
  {
   "cell_type": "code",
   "execution_count": 373,
   "metadata": {},
   "outputs": [],
   "source": [
    "pitches_injury[\"tj_year\"] = [tj_injury_year(x,y) for x,y in pitches_injury[['Name','Season']].itertuples(index=False)]"
   ]
  },
  {
   "cell_type": "markdown",
   "metadata": {},
   "source": [
    "## Pitching Injuries 2"
   ]
  },
  {
   "cell_type": "code",
   "execution_count": 374,
   "metadata": {},
   "outputs": [],
   "source": [
    "pitches_injury['Injury'] = pitches_injury['Injury'].str.upper()"
   ]
  },
  {
   "cell_type": "code",
   "execution_count": 375,
   "metadata": {},
   "outputs": [],
   "source": [
    "pitches_injury['injured'] = [1 if \"ELBOW\" in x\n",
    "                             or \"SHOULDER\" in x\n",
    "                             or \"BACK\" in x \n",
    "                             or \"OBLIQUE\" in x\n",
    "                             or \"ARM\" in x \n",
    "                             or \"KNEE\" in x\n",
    "                             or \"FINGER\" in x\n",
    "                             or \"GROIN\" in x\n",
    "                             or \"HIP\" in x\n",
    "                             or \"NECK\" in x\n",
    "                             else 0 for x in pitches_injury['Injury'].fillna(\"\")]"
   ]
  },
  {
   "cell_type": "code",
   "execution_count": 376,
   "metadata": {},
   "outputs": [],
   "source": [
    "# pitches_injury['injured_tag']  = [1 if (season <= injured_year) \n",
    "#                              and (injured == 1) and (season > (injured_year - 1))\n",
    "# else 0 \n",
    "# for name, season, injured_year, injured \n",
    "# in pitches_injury[['Name','Season','surgery_year','injured']].itertuples(index=False)]"
   ]
  },
  {
   "cell_type": "code",
   "execution_count": 377,
   "metadata": {},
   "outputs": [],
   "source": [
    "pitches_injury = pitches_injury.drop_duplicates([\"Name\",\"Season\",\"injured\"])"
   ]
  },
  {
   "cell_type": "code",
   "execution_count": 378,
   "metadata": {},
   "outputs": [],
   "source": [
    "pitches_injury = pitches_injury.sort_values(\"injured\",ascending=False).drop_duplicates(subset=['Name','Season'])"
   ]
  },
  {
   "cell_type": "code",
   "execution_count": 379,
   "metadata": {},
   "outputs": [],
   "source": [
    "pitch_types = ['FB%', 'SL%', 'CT%', 'CB%', 'CH%', 'SF%']\n",
    "pitch_vels = ['FBv', 'SLv', 'CTv', 'CBv','CHv', 'SFv']"
   ]
  },
  {
   "cell_type": "code",
   "execution_count": 380,
   "metadata": {},
   "outputs": [],
   "source": [
    "cols = [\"injured\",\n",
    " \"FA-Z (pfx)\",\n",
    " \"FT-Z (pfx)\",\n",
    " \"FC-Z (pfx)\",\n",
    " \"FS-Z (pfx)\",\n",
    " \"FO-Z (pfx)\",\n",
    " \"SI-Z (pfx)\",\n",
    " \"SL-Z (pfx)\",\n",
    " \"CU-Z (pfx)\",\n",
    " \"KC-Z (pfx)\",\n",
    " \"EP-Z (pfx)\",\n",
    " \"CH-Z (pfx)\",\n",
    " \"SC-Z (pfx)\",\n",
    " \"KN-Z (pfx)\"]"
   ]
  },
  {
   "cell_type": "markdown",
   "metadata": {},
   "source": [
    "## Feature Engineering"
   ]
  },
  {
   "cell_type": "code",
   "execution_count": 381,
   "metadata": {},
   "outputs": [],
   "source": [
    "def number_seasons_prior(Player, Season):\n",
    "    return Season - pitches_injury[pitches_injury['Name'] == Player]['Season'].min()"
   ]
  },
  {
   "cell_type": "code",
   "execution_count": 382,
   "metadata": {},
   "outputs": [],
   "source": [
    "pitches_injury['num_seasons_a_priori'] = [number_seasons_prior(x,y) \n",
    "                                 for x,y \n",
    "                                 in pitches_injury[['Name', 'Season']].itertuples(index=False)]"
   ]
  },
  {
   "cell_type": "code",
   "execution_count": 383,
   "metadata": {},
   "outputs": [],
   "source": [
    "pitches_injury['seasons_until_injury'] = [x + 1 if y == 1 else 0 for x,y \n",
    "                                          in pitches_injury[['num_seasons_a_priori', 'injured']]\n",
    "                                          .itertuples(index=False)]"
   ]
  },
  {
   "cell_type": "code",
   "execution_count": 384,
   "metadata": {},
   "outputs": [],
   "source": [
    "for pitch_type in pitch_types:\n",
    "    pitches_injury[pitch_type[:-1] + \"_count\"] = pitches_injury[pitch_type] * pitches_injury['Pitches']"
   ]
  },
  {
   "cell_type": "code",
   "execution_count": 385,
   "metadata": {},
   "outputs": [],
   "source": [
    "def pitch_diff(Player, Season):\n",
    "    temp_player = pitches_injury[(pitches_injury['Name'] == Player)\n",
    "                                &(pitches_injury['Season'] <= Season)\n",
    "                                & (pitches_injury['Season'] > Season - 3)]\n",
    "    \n",
    "    curr_player = pitches_injury[(pitches_injury['Name'] == Player)\n",
    "                                &(pitches_injury['Season'] == Season)]\n",
    "    \n",
    "    temp_df = pd.DataFrame(temp_player[delta_types].mean()).T\n",
    "    temp_df['Player'] = Player\n",
    "    temp_df['Season'] = Season\n",
    "    return temp_df"
   ]
  },
  {
   "cell_type": "code",
   "execution_count": 386,
   "metadata": {},
   "outputs": [],
   "source": [
    "pitches_injury['pitches_per_game'] = pitches_injury['Pitches'] / pitches_injury['G']\n",
    "pitches_injury[\"IP_per_G\"] = pitches_injury['IP'] / pitches_injury['G']\n",
    "pitches_injury[\"P_per_IP\"] = pitches_injury['Pitches'] / pitches_injury['IP']\n"
   ]
  },
  {
   "cell_type": "code",
   "execution_count": 387,
   "metadata": {},
   "outputs": [],
   "source": [
    "def shift_injury(player, season):\n",
    "    if pitches_injury[(pitches_injury['Name'] == player) & \n",
    "                     (pitches_injury['Season'] == season + 1)]['injured'].sum() > 0 :\n",
    "        return 1\n",
    "    else:\n",
    "        return 0"
   ]
  },
  {
   "cell_type": "code",
   "execution_count": 389,
   "metadata": {},
   "outputs": [],
   "source": [
    "def prior_injury(player, season):\n",
    "    if pitches_injury[(pitches_injury['Name'] == player) & \n",
    "                     (pitches_injury['Season'] < season)]['injured'].sum() > 0 :\n",
    "        return 1\n",
    "    else:\n",
    "        return 0"
   ]
  },
  {
   "cell_type": "code",
   "execution_count": 390,
   "metadata": {},
   "outputs": [],
   "source": [
    "def prior_injury_last_2_seasons(player, season):\n",
    "    if pitches_injury[(pitches_injury['Name'] == player) & \n",
    "                     (pitches_injury['Season'] < season) & \n",
    "                     (pitches_injury['Season'] >= season - 1)]['injured'].sum() > 0 :\n",
    "        return 1\n",
    "    else:\n",
    "        return 0"
   ]
  },
  {
   "cell_type": "code",
   "execution_count": 391,
   "metadata": {},
   "outputs": [],
   "source": [
    "pitches_injury['injury_lagged'] = [shift_injury(x,y) for x,y in pitches_injury[['Name','Season']].itertuples(index=False)]"
   ]
  },
  {
   "cell_type": "code",
   "execution_count": 392,
   "metadata": {},
   "outputs": [],
   "source": [
    "pitches_injury['prior_injury'] = [prior_injury(x,y) for x,y in pitches_injury[['Name','Season']].itertuples(index=False)]"
   ]
  },
  {
   "cell_type": "code",
   "execution_count": 393,
   "metadata": {},
   "outputs": [],
   "source": [
    "pitches_injury['prior_injury_last_2'] = [prior_injury_last_2_seasons(x,y) for x,y in pitches_injury[['Name','Season']].itertuples(index=False)]"
   ]
  },
  {
   "cell_type": "code",
   "execution_count": 395,
   "metadata": {},
   "outputs": [],
   "source": [
    "pitches_injury[\"FA% (pi)\"]  =  [x if x == x \n",
    "                                else y if y == y\n",
    "                                else z for x,y,z \n",
    "                                in pitches_injury[[\"FA% (pi)\",\"FB%\",\"FA% (pfx)\"]].itertuples(index=False)]"
   ]
  },
  {
   "cell_type": "code",
   "execution_count": 396,
   "metadata": {},
   "outputs": [],
   "source": [
    "pitches_injury[\"vFA (pi)\"]  =  [x if x == x \n",
    "                                else y if y == y\n",
    "                                else z for x,y,z \n",
    "                                in pitches_injury[[\"vFA (pi)\",\"FBv\",\"vFA (pfx)\"]].itertuples(index=False)]"
   ]
  },
  {
   "cell_type": "code",
   "execution_count": 397,
   "metadata": {},
   "outputs": [],
   "source": [
    "pitches_injury[\"FC% (pi)\"]  =  [x if x == x \n",
    "                                else y if y == y\n",
    "                                else z for x,y,z \n",
    "                                in pitches_injury[[\"FC% (pi)\",\"CT%\",\"FC% (pfx)\"]].itertuples(index=False)]"
   ]
  },
  {
   "cell_type": "code",
   "execution_count": 398,
   "metadata": {},
   "outputs": [],
   "source": [
    "pitches_injury[\"vFC (pi)\"]  =  [x if x == x \n",
    "                                else y if y == y\n",
    "                                else z for x,y,z \n",
    "                                in pitches_injury[[\"vFC (pi)\",\"CTv\",\"vFC (pfx)\"]].itertuples(index=False)]"
   ]
  },
  {
   "cell_type": "code",
   "execution_count": 399,
   "metadata": {},
   "outputs": [],
   "source": [
    "pitches_injury[\"SI% (pi)\"]  =  [x if x == x \n",
    "                                else y for x,y \n",
    "                                in pitches_injury[[\"SI% (pi)\",\"SI% (pfx)\"]].itertuples(index=False)]"
   ]
  },
  {
   "cell_type": "code",
   "execution_count": 400,
   "metadata": {},
   "outputs": [],
   "source": [
    "pitches_injury[\"vSI (pi)\"]  =  [x if x == x \n",
    "                                else y for x,y \n",
    "                                in pitches_injury[[\"vSI (pi)\",\"vSI (pfx)\"]].itertuples(index=False)]"
   ]
  },
  {
   "cell_type": "code",
   "execution_count": 401,
   "metadata": {},
   "outputs": [],
   "source": [
    "pitches_injury[\"FA-Z (pi)\"]  =  [x if x == x \n",
    "                                else y for x,y\n",
    "                                in pitches_injury[[\"FA-Z (pi)\",\"FA-Z (pfx)\"]].itertuples(index=False)]\n",
    "\n",
    "pitches_injury[\"FA-X (pi)\"]  =  [x if x == x \n",
    "                                else y for x,y\n",
    "                                in pitches_injury[[\"FA-X (pi)\",\"FA-X (pfx)\"]].itertuples(index=False)]\n",
    "\n",
    "pitches_injury[\"wFA (pi)\"]  =  [x if x == x \n",
    "                                else y for x,y\n",
    "                                in pitches_injury[[\"wFA (pi)\",\"wFA (pfx)\"]].itertuples(index=False)]"
   ]
  },
  {
   "cell_type": "code",
   "execution_count": 402,
   "metadata": {},
   "outputs": [],
   "source": [
    "pitches_injury[\"SI-Z (pi)\"]  =  [x if x == x \n",
    "                                else y for x,y\n",
    "                                in pitches_injury[[\"SI-Z (pi)\",\"SI-Z (pfx)\"]].itertuples(index=False)]\n",
    "\n",
    "pitches_injury[\"SI-X (pi)\"]  =  [x if x == x \n",
    "                                else y for x,y\n",
    "                                in pitches_injury[[\"SI-X (pi)\",\"SI-X (pfx)\"]].itertuples(index=False)]\n",
    "\n",
    "pitches_injury[\"wSI (pi)\"]  =  [x if x == x \n",
    "                                else y for x,y\n",
    "                                in pitches_injury[[\"wSI (pi)\",\"wSI (pfx)\"]].itertuples(index=False)]"
   ]
  },
  {
   "cell_type": "code",
   "execution_count": 403,
   "metadata": {},
   "outputs": [],
   "source": [
    "pitches_injury[\"FC-Z (pi)\"]  =  [x if x == x \n",
    "                                else y for x,y\n",
    "                                in pitches_injury[[\"FC-Z (pi)\",\"FC-Z (pfx)\"]].itertuples(index=False)]\n",
    "\n",
    "pitches_injury[\"FC-X (pi)\"]  =  [x if x == x \n",
    "                                else y for x,y\n",
    "                                in pitches_injury[[\"FC-X (pi)\",\"FC-X (pfx)\"]].itertuples(index=False)]\n",
    "\n",
    "pitches_injury[\"wFC (pi)\"]  =  [x if x == x \n",
    "                                else y for x,y\n",
    "                                in pitches_injury[[\"wFC (pi)\",\"wFC (pfx)\"]].itertuples(index=False)]"
   ]
  },
  {
   "cell_type": "code",
   "execution_count": 404,
   "metadata": {},
   "outputs": [],
   "source": [
    "pitch_types = ['CH% (pi)', 'CS% (pi)', 'CU% (pi)', 'FA% (pi)',\n",
    "               'FC% (pi)', 'FS% (pi)', 'KN% (pi)', 'SB% (pi)',\n",
    "               'SI% (pi)', 'SL% (pi)', 'XX% (pi)',\n",
    "              'CH-X (pi)', 'CS-X (pi)', 'CU-X (pi)', 'FA-X (pi)',\n",
    "               'FC-X (pi)', 'FS-X (pi)', 'KN-X (pi)', 'SB-X (pi)',\n",
    "               'SI-X (pi)', 'SL-X (pi)', 'XX-X (pi)',\n",
    "               'CH-Z (pi)', 'CS-Z (pi)', 'CU-Z (pi)', 'FA-Z (pi)',\n",
    "               'FC-Z (pi)', 'FS-Z (pi)', 'KN-Z (pi)', 'SB-Z (pi)',\n",
    "               'SI-Z (pi)', 'SL-Z (pi)', 'XX-Z (pi)',\n",
    "               'wCH (pi)', 'wCS (pi)', 'wCU (pi)',\n",
    "               'wFA (pi)', 'wFC (pi)', 'wFS (pi)',\n",
    "               'wKN (pi)', 'wSB (pi)', 'wSI (pi)',\n",
    "               'wSL (pi)', 'wXX (pi)'\n",
    "               \n",
    "              ]"
   ]
  },
  {
   "cell_type": "code",
   "execution_count": 405,
   "metadata": {},
   "outputs": [],
   "source": [
    "pitches_injury['sinkers_cutters_percent'] = pitches_injury['FC% (pi)'].fillna(0) + pitches_injury['SI% (pi)'].fillna(0)"
   ]
  },
  {
   "cell_type": "code",
   "execution_count": 406,
   "metadata": {},
   "outputs": [],
   "source": [
    "pitches_injury['other_pitch_types_percent'] = (pitches_injury['CH% (pi)'].fillna(0) +\n",
    "                                       pitches_injury['CS% (pi)'].fillna(0) +\n",
    "                                       pitches_injury['CU% (pi)'].fillna(0) +\n",
    "                                       pitches_injury['FS% (pi)'].fillna(0) +\n",
    "                                       pitches_injury['KN% (pi)'].fillna(0) +\n",
    "                                       pitches_injury['SB% (pi)'].fillna(0) +\n",
    "                                       pitches_injury['SL% (pi)'].fillna(0) +\n",
    "                                       pitches_injury['XX% (pi)'].fillna(0)\n",
    "                                      )"
   ]
  },
  {
   "cell_type": "code",
   "execution_count": 407,
   "metadata": {},
   "outputs": [],
   "source": [
    "pitches_injury['other_pitch_types_w'] = (pitches_injury['wCH (pi)'].fillna(0) +\n",
    "                                       pitches_injury['wCS (pi)'].fillna(0) +\n",
    "                                       pitches_injury['wCU (pi)'].fillna(0) +\n",
    "                                       pitches_injury['wFS (pi)'].fillna(0) +\n",
    "                                       pitches_injury['wKN (pi)'].fillna(0) +\n",
    "                                       pitches_injury['wSB (pi)'].fillna(0) +\n",
    "                                       pitches_injury['wSL (pi)'].fillna(0) +\n",
    "                                       pitches_injury['wXX (pi)'].fillna(0)\n",
    "                                      )"
   ]
  },
  {
   "cell_type": "code",
   "execution_count": 408,
   "metadata": {},
   "outputs": [],
   "source": [
    "pitches_injury['other_pitch_types_X'] = (pitches_injury['CH-X (pi)'].fillna(0) +\n",
    "                                       pitches_injury['CS-X (pi)'].fillna(0) +\n",
    "                                       pitches_injury['CU-X (pi)'].fillna(0) +\n",
    "                                       pitches_injury['FS-X (pi)'].fillna(0) +\n",
    "                                       pitches_injury['KN-X (pi)'].fillna(0) +\n",
    "                                       pitches_injury['SB-X (pi)'].fillna(0) +\n",
    "                                       pitches_injury['SL-X (pi)'].fillna(0) +\n",
    "                                       pitches_injury['XX-X (pi)'].fillna(0)\n",
    "                                      )"
   ]
  },
  {
   "cell_type": "code",
   "execution_count": 409,
   "metadata": {},
   "outputs": [],
   "source": [
    "pitches_injury['other_pitch_types_Z'] = (pitches_injury['CH-Z (pi)'].fillna(0) +\n",
    "                                       pitches_injury['CS-Z (pi)'].fillna(0) +\n",
    "                                       pitches_injury['CU-Z (pi)'].fillna(0) +\n",
    "                                       pitches_injury['FS-Z (pi)'].fillna(0) +\n",
    "                                       pitches_injury['KN-Z (pi)'].fillna(0) +\n",
    "                                       pitches_injury['SB-Z (pi)'].fillna(0) +\n",
    "                                       pitches_injury['SL-Z (pi)'].fillna(0) +\n",
    "                                       pitches_injury['XX-Z (pi)'].fillna(0)\n",
    "                                      )"
   ]
  },
  {
   "cell_type": "code",
   "execution_count": 410,
   "metadata": {},
   "outputs": [],
   "source": [
    "others = [\"other_pitch_types_percent\",\"other_pitch_types_w\",\"other_pitch_types_X\",\"other_pitch_types_Z\"]"
   ]
  },
  {
   "cell_type": "code",
   "execution_count": 411,
   "metadata": {},
   "outputs": [],
   "source": [
    "def calc_accel(df, field):\n",
    "    temp = (df\n",
    "                   .groupby(['Name','Season'])[field]\n",
    "                   .sum().groupby(level=0, group_keys=False)\n",
    "                   .shift(+2).reset_index())\n",
    "\n",
    "    temp.rename(columns={field:\"{}_lag_2\".format(field)}, inplace = True)\n",
    "\n",
    "    if \"{}_lag_2\".format(field) in df.columns:\n",
    "        df.drop(columns=[\"{}_lag_2\".format(field)],inplace=True)\n",
    "    \n",
    "    df = pd.merge(df, temp, on=['Name','Season'])\n",
    "\n",
    "    df['{}_diff_2'.format(field)] = df[field] - df[\"{}_lag_2\".format(field)]\n",
    "    df['{}_accel_2'.format(field)] = df['{}_diff_2'.format(field)] / 3\n",
    "    return df"
   ]
  },
  {
   "cell_type": "code",
   "execution_count": 413,
   "metadata": {},
   "outputs": [],
   "source": [
    "pitches_injury['years_since_tj'] = [y - x if x > 0 \n",
    "                                    else 0 \n",
    "                                    for x,y \n",
    "                                    in pitches_injury[['tj_year',\"Season\"]].itertuples(index=False)]"
   ]
  },
  {
   "cell_type": "code",
   "execution_count": 414,
   "metadata": {},
   "outputs": [],
   "source": [
    "cols = ['Pitches','G', \"IP\", \"sinkers_cutters_percent\",'vFA (pi)','vFC (pi)',\"vSI (pi)\",\"FA% (pi)\"]"
   ]
  },
  {
   "cell_type": "code",
   "execution_count": 415,
   "metadata": {},
   "outputs": [],
   "source": [
    "pitches_injury['SO_G'] = pitches_injury['SO'] / pitches_injury['G']"
   ]
  },
  {
   "cell_type": "code",
   "execution_count": 416,
   "metadata": {},
   "outputs": [],
   "source": [
    "## Generate acceleration features"
   ]
  },
  {
   "cell_type": "code",
   "execution_count": 417,
   "metadata": {},
   "outputs": [],
   "source": [
    "for col in cols:\n",
    "    pitches_injury = calc_accel(pitches_injury, col)"
   ]
  },
  {
   "cell_type": "code",
   "execution_count": 418,
   "metadata": {},
   "outputs": [],
   "source": [
    "for col in pitch_types:\n",
    "    pitches_injury = calc_accel(pitches_injury, col)"
   ]
  },
  {
   "cell_type": "code",
   "execution_count": 419,
   "metadata": {},
   "outputs": [],
   "source": [
    "for col in others:\n",
    "    pitches_injury = calc_accel(pitches_injury, col)"
   ]
  },
  {
   "cell_type": "code",
   "execution_count": 420,
   "metadata": {},
   "outputs": [],
   "source": [
    "pitches_injury = calc_accel(pitches_injury, 'SO_G')"
   ]
  },
  {
   "cell_type": "code",
   "execution_count": 421,
   "metadata": {},
   "outputs": [],
   "source": [
    "pitches_injury = calc_accel(pitches_injury, 'P_per_IP')"
   ]
  },
  {
   "cell_type": "code",
   "execution_count": 422,
   "metadata": {},
   "outputs": [],
   "source": [
    "pitches_injury = calc_accel(pitches_injury, 'vSL (pi)')"
   ]
  },
  {
   "cell_type": "markdown",
   "metadata": {},
   "source": [
    "TBF, BB, WP"
   ]
  },
  {
   "cell_type": "code",
   "execution_count": 423,
   "metadata": {},
   "outputs": [],
   "source": [
    "other_stats = [\"walk_rate\",\"wild_pitch_rate\"]"
   ]
  },
  {
   "cell_type": "code",
   "execution_count": 424,
   "metadata": {},
   "outputs": [],
   "source": [
    "pitches_injury['walk_rate'] = ((pitches_injury['BB'] - pitches_injury['IBB']) / pitches_injury['TBF'])"
   ]
  },
  {
   "cell_type": "code",
   "execution_count": 425,
   "metadata": {},
   "outputs": [],
   "source": [
    "pitches_injury['wild_pitch_rate'] = (pitches_injury['WP'] / pitches_injury['Pitches'])"
   ]
  },
  {
   "cell_type": "code",
   "execution_count": 427,
   "metadata": {},
   "outputs": [],
   "source": [
    "pitches_injury['win_rec'] = (pitches_injury['W'] / (pitches_injury['L'] + pitches_injury['W'])).fillna(0)"
   ]
  },
  {
   "cell_type": "code",
   "execution_count": 428,
   "metadata": {},
   "outputs": [],
   "source": [
    "for col in other_stats:\n",
    "    pitches_injury = calc_accel(pitches_injury, col)"
   ]
  },
  {
   "cell_type": "code",
   "execution_count": 471,
   "metadata": {},
   "outputs": [],
   "source": [
    "more_stats = [\"wFC/C (pi)\",\"wSI/C (pi)\",\"wFA/C (pi)\"]"
   ]
  },
  {
   "cell_type": "code",
   "execution_count": 472,
   "metadata": {},
   "outputs": [],
   "source": [
    "for col in more_stats:\n",
    "    pitches_injury = calc_accel(pitches_injury, col)"
   ]
  },
  {
   "cell_type": "code",
   "execution_count": 429,
   "metadata": {
    "scrolled": false
   },
   "outputs": [
    {
     "data": {
      "text/html": [
       "<div>\n",
       "<style scoped>\n",
       "    .dataframe tbody tr th:only-of-type {\n",
       "        vertical-align: middle;\n",
       "    }\n",
       "\n",
       "    .dataframe tbody tr th {\n",
       "        vertical-align: top;\n",
       "    }\n",
       "\n",
       "    .dataframe thead tr th {\n",
       "        text-align: left;\n",
       "    }\n",
       "\n",
       "    .dataframe thead tr:last-of-type th {\n",
       "        text-align: right;\n",
       "    }\n",
       "</style>\n",
       "<table border=\"1\" class=\"dataframe\">\n",
       "  <thead>\n",
       "    <tr>\n",
       "      <th></th>\n",
       "      <th></th>\n",
       "      <th colspan=\"3\" halign=\"left\">injury_lagged</th>\n",
       "    </tr>\n",
       "    <tr>\n",
       "      <th></th>\n",
       "      <th></th>\n",
       "      <th>mean</th>\n",
       "      <th>sum</th>\n",
       "      <th>count</th>\n",
       "    </tr>\n",
       "    <tr>\n",
       "      <th>tj</th>\n",
       "      <th>wKN (pi)_accel_2</th>\n",
       "      <th></th>\n",
       "      <th></th>\n",
       "      <th></th>\n",
       "    </tr>\n",
       "  </thead>\n",
       "  <tbody>\n",
       "    <tr>\n",
       "      <td rowspan=\"2\" valign=\"top\">0</td>\n",
       "      <td>(-9.112, -3.083]</td>\n",
       "      <td>0.00</td>\n",
       "      <td>0.0</td>\n",
       "      <td>2.0</td>\n",
       "    </tr>\n",
       "    <tr>\n",
       "      <td>(-3.083, 2.933]</td>\n",
       "      <td>0.25</td>\n",
       "      <td>1.0</td>\n",
       "      <td>4.0</td>\n",
       "    </tr>\n",
       "    <tr>\n",
       "      <td rowspan=\"2\" valign=\"top\">1</td>\n",
       "      <td>(-9.112, -3.083]</td>\n",
       "      <td>NaN</td>\n",
       "      <td>NaN</td>\n",
       "      <td>NaN</td>\n",
       "    </tr>\n",
       "    <tr>\n",
       "      <td>(-3.083, 2.933]</td>\n",
       "      <td>0.00</td>\n",
       "      <td>0.0</td>\n",
       "      <td>2.0</td>\n",
       "    </tr>\n",
       "  </tbody>\n",
       "</table>\n",
       "</div>"
      ],
      "text/plain": [
       "                    injury_lagged           \n",
       "                             mean  sum count\n",
       "tj wKN (pi)_accel_2                         \n",
       "0  (-9.112, -3.083]          0.00  0.0   2.0\n",
       "   (-3.083, 2.933]           0.25  1.0   4.0\n",
       "1  (-9.112, -3.083]           NaN  NaN   NaN\n",
       "   (-3.083, 2.933]           0.00  0.0   2.0"
      ]
     },
     "execution_count": 429,
     "metadata": {},
     "output_type": "execute_result"
    }
   ],
   "source": [
    "(pitches_injury[pitches_injury['Season'] > 2013]\n",
    " .groupby([     \n",
    "     'tj',\n",
    "     #pd.cut(pitches_injury[pitches_injury['Season'] > 2013][\"Age\"], 5, duplicates=\"drop\"),\n",
    "           pd.cut(pitches_injury[pitches_injury['Season'] > 2013]['wKN (pi)_accel_2'], bins=2,duplicates=\"drop\"),\n",
    "     \n",
    "          ])\n",
    " .agg({\"injury_lagged\":['mean','sum','count']}))"
   ]
  },
  {
   "cell_type": "code",
   "execution_count": 430,
   "metadata": {},
   "outputs": [],
   "source": [
    "pitch_types = ['CH% (pi)', 'CS% (pi)', 'CU% (pi)', 'FA% (pi)',\n",
    "               'FC% (pi)', 'FS% (pi)', 'KN% (pi)', 'SB% (pi)',\n",
    "               'SI% (pi)', 'SL% (pi)', 'XX% (pi)',\n",
    "              'CH-X (pi)', 'CS-X (pi)', 'CU-X (pi)', 'FA-X (pi)',\n",
    "               'FC-X (pi)', 'FS-X (pi)', 'KN-X (pi)', 'SB-X (pi)',\n",
    "               'SI-X (pi)', 'SL-X (pi)', 'XX-X (pi)',\n",
    "               'CH-Z (pi)', 'CS-Z (pi)', 'CU-Z (pi)', 'FA-Z (pi)',\n",
    "               'FC-Z (pi)', 'FS-Z (pi)', 'KN-Z (pi)', 'SB-Z (pi)',\n",
    "               'SI-Z (pi)', 'SL-Z (pi)', 'XX-Z (pi)',\n",
    "               'wCH (pi)', 'wCS (pi)', 'wCU (pi)',\n",
    "               'wFA (pi)', 'wFC (pi)', 'wFS (pi)',\n",
    "               'wKN (pi)', 'wSB (pi)', 'wSI (pi)',\n",
    "               'wSL (pi)', 'wXX (pi)',\n",
    "               'CH% (pi)_accel_2', 'CS% (pi)_accel_2', 'CU% (pi)_accel_2', 'FA% (pi)_accel_2',\n",
    "               'FC% (pi)_accel_2', 'FS% (pi)_accel_2', 'KN% (pi)_accel_2', 'SB% (pi)_accel_2',\n",
    "               'SI% (pi)_accel_2', 'SL% (pi)_accel_2', 'XX% (pi)_accel_2',\n",
    "              'CH-X (pi)_accel_2', 'CS-X (pi)_accel_2', 'CU-X (pi)_accel_2', 'FA-X (pi)_accel_2',\n",
    "               'FC-X (pi)_accel_2', 'FS-X (pi)_accel_2', 'KN-X (pi)_accel_2', 'SB-X (pi)_accel_2',\n",
    "               'SI-X (pi)_accel_2', 'SL-X (pi)_accel_2', 'XX-X (pi)_accel_2',\n",
    "               'CH-Z (pi)_accel_2', 'CS-Z (pi)_accel_2', 'CU-Z (pi)_accel_2', 'FA-Z (pi)_accel_2',\n",
    "               'FC-Z (pi)_accel_2', 'FS-Z (pi)_accel_2', 'KN-Z (pi)_accel_2', 'SB-Z (pi)_accel_2',\n",
    "               'SI-Z (pi)_accel_2', 'SL-Z (pi)_accel_2', 'XX-Z (pi)_accel_2',\n",
    "               'wCH (pi)_accel_2', 'wCS (pi)_accel_2', 'wCU (pi)_accel_2',\n",
    "               'wFA (pi)_accel_2', 'wFC (pi)_accel_2', 'wFS (pi)_accel_2',\n",
    "               'wKN (pi)_accel_2', 'wSB (pi)_accel_2', 'wSI (pi)_accel_2',\n",
    "               'wSL (pi)_accel_2', 'wXX (pi)_accel_2'\n",
    "               \n",
    "              ]"
   ]
  },
  {
   "cell_type": "code",
   "execution_count": 431,
   "metadata": {},
   "outputs": [],
   "source": [
    "pitch_types_accel = ['CH% (pi)_accel_2', 'CS% (pi)_accel_2', 'CU% (pi)_accel_2', 'FA% (pi)_accel_2',\n",
    "               'FC% (pi)_accel_2', 'FS% (pi)_accel_2', 'KN% (pi)_accel_2', 'SB% (pi)_accel_2',\n",
    "               'SI% (pi)_accel_2', 'SL% (pi)_accel_2', 'XX% (pi)_accel_2',\n",
    "              'CH-X (pi)_accel_2', 'CS-X (pi)_accel_2', 'CU-X (pi)_accel_2', 'FA-X (pi)_accel_2',\n",
    "               'FC-X (pi)_accel_2', 'FS-X (pi)_accel_2', 'KN-X (pi)_accel_2', 'SB-X (pi)_accel_2',\n",
    "               'SI-X (pi)_accel_2', 'SL-X (pi)_accel_2', 'XX-X (pi)_accel_2',\n",
    "               'CH-Z (pi)_accel_2', 'CS-Z (pi)_accel_2', 'CU-Z (pi)_accel_2', 'FA-Z (pi)_accel_2',\n",
    "               'FC-Z (pi)_accel_2', 'FS-Z (pi)_accel_2', 'KN-Z (pi)_accel_2', 'SB-Z (pi)_accel_2',\n",
    "               'SI-Z (pi)_accel_2', 'SL-Z (pi)_accel_2', 'XX-Z (pi)_accel_2',\n",
    "               'wCH (pi)_accel_2', 'wCS (pi)_accel_2', 'wCU (pi)_accel_2',\n",
    "               'wFA (pi)_accel_2', 'wFC (pi)_accel_2', 'wFS (pi)_accel_2',\n",
    "               'wKN (pi)_accel_2', 'wSB (pi)_accel_2', 'wSI (pi)_accel_2',\n",
    "               'wSL (pi)_accel_2', 'wXX (pi)_accel_2'\n",
    "              ]"
   ]
  },
  {
   "cell_type": "code",
   "execution_count": 432,
   "metadata": {},
   "outputs": [],
   "source": [
    "pitch_types = ['CH-X (pi)', 'CS-X (pi)', 'CU-X (pi)', 'FA-X (pi)',\n",
    "               'FC-X (pi)', 'FS-X (pi)', 'KN-X (pi)', 'SB-X (pi)',\n",
    "               'SI-X (pi)', 'SL-X (pi)', 'XX-X (pi)']"
   ]
  },
  {
   "cell_type": "markdown",
   "metadata": {},
   "source": [
    "## World Series?"
   ]
  },
  {
   "cell_type": "code",
   "execution_count": 434,
   "metadata": {},
   "outputs": [],
   "source": [
    "ws_teams = {\"Red Sox\":2013,\n",
    "\"Cardinals\":2013,\n",
    "\"Giants\":2014,\n",
    "\"Royals\":2014,\n",
    "\"Royals\":2015,\n",
    "\"Mets\":2015,\n",
    "\"Cubs\":2016,\n",
    "\"Indians\":2016,\n",
    "\"Astros\":2017,\n",
    "\"Dodgers\":2017,\n",
    "\"Red Sox\":2018,\n",
    "\"Dodgers\":2018,\n",
    "\"Nationals\":2019,\n",
    "\"Astros\":2019,\n",
    "}"
   ]
  },
  {
   "cell_type": "code",
   "execution_count": 435,
   "metadata": {},
   "outputs": [],
   "source": [
    "pitches_injury['ws_pitcher'] = [1 if y in ws_teams \n",
    " and ws_teams[y] == x \n",
    " else 0 \n",
    " for x,y in pitches_injury[['Season','Team_x']].itertuples(index=False)]"
   ]
  },
  {
   "cell_type": "code",
   "execution_count": 436,
   "metadata": {},
   "outputs": [],
   "source": [
    "## Acceleration over a three year period would be the final prop - initial prop / 3. The Acceleration would then be\n",
    "## the rate at which the proportion increased over the three year period. "
   ]
  },
  {
   "cell_type": "code",
   "execution_count": 437,
   "metadata": {},
   "outputs": [],
   "source": [
    "pitches_injury['pitches_per_bat'] = (pitches_injury['Pitches'] / pitches_injury['TBF'])"
   ]
  },
  {
   "cell_type": "code",
   "execution_count": 476,
   "metadata": {},
   "outputs": [],
   "source": [
    "training_cols = [\"Name\",\"Season\",\"injured\",\"injury_lagged\", \"Age\",'Pitches','IP','G',\"P_per_IP_accel_2\",\n",
    "                'prior_injury','sinkers_cutters_percent','prior_injury_last_2','P_per_IP',\"pitches_per_bat\",\n",
    "                 'Pitches_accel_2','G_accel_2','IP_accel_2',\"tj\",\"sinkers_cutters_percent_accel_2\",\"IP_per_G\",\n",
    "                 \"pitches_per_game\",\n",
    "                 \"other_pitch_types_percent_accel_2\",\"other_pitch_types_w_accel_2\",\"years_since_tj\",\n",
    "                 \"other_pitch_types_X_accel_2\",\"other_pitch_types_Z_accel_2\",\"SO_G_accel_2\",\"ws_pitcher\",\n",
    "                 \"walk_rate\",\"walk_rate_accel_2\",\"wild_pitch_rate\",\"wild_pitch_rate_accel_2\",\n",
    "                 'FA% (pi)','FC% (pi)','SI% (pi)',\n",
    "              'FA-X (pi)','FC-X (pi)','SI-X (pi)',\n",
    "                'FA-Z (pi)','FC-Z (pi)','SI-Z (pi)',\n",
    "               'wFA (pi)', 'wFC (pi)', 'wSI (pi)',\n",
    "                'FA% (pi)_accel_2',\n",
    "               'FC% (pi)_accel_2',\n",
    "               'SI% (pi)_accel_2',\n",
    "               'FA-X (pi)_accel_2',\n",
    "               'FC-X (pi)_accel_2',\n",
    "               'SI-X (pi)_accel_2',\n",
    "               'FA-Z (pi)_accel_2',\n",
    "               'FC-Z (pi)_accel_2','wFC/C (pi)','wFC/C (pi)_accel_2',\n",
    "                 'wSI/C (pi)','wSI/C (pi)_accel_2','wFA/C (pi)','wFA/C (pi)_accel_2',\n",
    "               'SI-Z (pi)_accel_2',\"win_rec\",\n",
    "               'wFA (pi)_accel_2', 'wSI (pi)_accel_2','wFC (pi)_accel_2',\n",
    "                 'vFA (pi)','vFC (pi)','vSI (pi)','vFC (pi)_accel_2','vFA (pi)_accel_2','vSI (pi)_accel_2',\n",
    "                 'SL% (pi)',\n",
    "                 'SL% (pi)_accel_2',\n",
    "                 'SL-X (pi)',\n",
    "                 'SL-X (pi)_accel_2',\n",
    "                 'SL-Z (pi)',\n",
    "                 'SL-Z (pi)_accel_2',\n",
    "                'vSL (pi)',\n",
    "                 'vSL (pi)_accel_2',\n",
    "                    'wSL (pi)',\n",
    "                 'wSL (pi)_accel_2'\n",
    "    \n",
    "                ]"
   ]
  },
  {
   "cell_type": "code",
   "execution_count": 480,
   "metadata": {},
   "outputs": [
    {
     "data": {
      "text/html": [
       "<div>\n",
       "<style scoped>\n",
       "    .dataframe tbody tr th:only-of-type {\n",
       "        vertical-align: middle;\n",
       "    }\n",
       "\n",
       "    .dataframe tbody tr th {\n",
       "        vertical-align: top;\n",
       "    }\n",
       "\n",
       "    .dataframe thead th {\n",
       "        text-align: right;\n",
       "    }\n",
       "</style>\n",
       "<table border=\"1\" class=\"dataframe\">\n",
       "  <thead>\n",
       "    <tr style=\"text-align: right;\">\n",
       "      <th></th>\n",
       "      <th>IP</th>\n",
       "      <th>vFA (pi)</th>\n",
       "      <th>FB%</th>\n",
       "      <th>FA% (pi)</th>\n",
       "      <th>Season</th>\n",
       "      <th>Team_x</th>\n",
       "      <th>injury_lagged</th>\n",
       "    </tr>\n",
       "  </thead>\n",
       "  <tbody>\n",
       "    <tr>\n",
       "      <td>1324</td>\n",
       "      <td>66.2</td>\n",
       "      <td>NaN</td>\n",
       "      <td>NaN</td>\n",
       "      <td>NaN</td>\n",
       "      <td>2016.0</td>\n",
       "      <td>Indians</td>\n",
       "      <td>0</td>\n",
       "    </tr>\n",
       "  </tbody>\n",
       "</table>\n",
       "</div>"
      ],
      "text/plain": [
       "        IP  vFA (pi)  FB%  FA% (pi)  Season   Team_x  injury_lagged\n",
       "1324  66.2       NaN  NaN       NaN  2016.0  Indians              0"
      ]
     },
     "execution_count": 480,
     "metadata": {},
     "output_type": "execute_result"
    }
   ],
   "source": [
    "pitches_injury_2015[pitches_injury_2015['vFA (pi)'].isnull()][[\"IP\",'vFA (pi)',\"FB%\",\"FA% (pi)\",\"Season\",\"Team_x\",\n",
    "                                                              \"injury_lagged\"]]"
   ]
  },
  {
   "cell_type": "code",
   "execution_count": 483,
   "metadata": {},
   "outputs": [],
   "source": [
    "pitches_injury_2013 = pitches_injury[pitches_injury['Season'] > 2013]\n",
    "pitches_injury_2015 = pitches_injury[(pitches_injury['Season'] > 2013) & (pitches_injury['Season'] < 2018)]\n",
    "pitches_injury_2019 =  pitches_injury[pitches_injury['Season'] == 2018]\n",
    "pitches_injury_2020 = pitches_injury[pitches_injury['Season'] == 2019]"
   ]
  },
  {
   "cell_type": "code",
   "execution_count": 484,
   "metadata": {},
   "outputs": [],
   "source": [
    "pitches_injury_2015 = pitches_injury_2015[(pitches_injury_2015['IP'] > 10)]"
   ]
  },
  {
   "cell_type": "code",
   "execution_count": 485,
   "metadata": {},
   "outputs": [],
   "source": [
    "## Removing Pitchers who don't have a sufficient history to create acceleration variables. \n",
    "pitches_injury_2015 = pitches_injury_2015[~pitches_injury_2015['SO_G_accel_2'].isnull()]"
   ]
  },
  {
   "cell_type": "code",
   "execution_count": 486,
   "metadata": {},
   "outputs": [],
   "source": [
    "pitches_injury_2015[training_cols].fillna(0).set_index(\"Name\",drop=True).to_csv(\"/Users/nchapman/Documents/Documents/MSAS/spring_2020/MAT8406/Pitcher Injury Project/pitching_data.csv\",\n",
    "                     sep='|')\n",
    "pitches_injury_2019[training_cols].fillna(0).set_index(\"Name\", drop=True).to_csv(\"/Users/nchapman/Documents/Documents/MSAS/spring_2020/MAT8406/Pitcher Injury Project/pitching_holdout_data.csv\",\n",
    "                                                                                sep='|')\n",
    "pitches_injury_2020[training_cols].fillna(0).set_index(\"Name\", drop=True).to_csv(\"/Users/nchapman/Documents/Documents/MSAS/spring_2020/MAT8406/Pitcher Injury Project/pitching_holdout_2020_data.csv\",\n",
    "                                                                                sep='|')"
   ]
  },
  {
   "cell_type": "code",
   "execution_count": 487,
   "metadata": {},
   "outputs": [
    {
     "data": {
      "text/html": [
       "<div>\n",
       "<style scoped>\n",
       "    .dataframe tbody tr th:only-of-type {\n",
       "        vertical-align: middle;\n",
       "    }\n",
       "\n",
       "    .dataframe tbody tr th {\n",
       "        vertical-align: top;\n",
       "    }\n",
       "\n",
       "    .dataframe thead th {\n",
       "        text-align: right;\n",
       "    }\n",
       "</style>\n",
       "<table border=\"1\" class=\"dataframe\">\n",
       "  <thead>\n",
       "    <tr style=\"text-align: right;\">\n",
       "      <th></th>\n",
       "      <th>Age</th>\n",
       "      <th>tj</th>\n",
       "      <th>prior_injury</th>\n",
       "      <th>win_rec</th>\n",
       "      <th>IP</th>\n",
       "      <th>ws_pitcher</th>\n",
       "      <th>pitches_per_bat</th>\n",
       "      <th>pitches_per_game</th>\n",
       "    </tr>\n",
       "    <tr>\n",
       "      <th>injury_lagged</th>\n",
       "      <th></th>\n",
       "      <th></th>\n",
       "      <th></th>\n",
       "      <th></th>\n",
       "      <th></th>\n",
       "      <th></th>\n",
       "      <th></th>\n",
       "      <th></th>\n",
       "    </tr>\n",
       "  </thead>\n",
       "  <tbody>\n",
       "    <tr>\n",
       "      <td>0</td>\n",
       "      <td>29.405757</td>\n",
       "      <td>0.141133</td>\n",
       "      <td>0.375116</td>\n",
       "      <td>0.463073</td>\n",
       "      <td>80.101021</td>\n",
       "      <td>0.038997</td>\n",
       "      <td>3.875158</td>\n",
       "      <td>45.271916</td>\n",
       "    </tr>\n",
       "    <tr>\n",
       "      <td>1</td>\n",
       "      <td>29.047414</td>\n",
       "      <td>0.200431</td>\n",
       "      <td>0.476293</td>\n",
       "      <td>0.515199</td>\n",
       "      <td>93.285345</td>\n",
       "      <td>0.032328</td>\n",
       "      <td>3.868595</td>\n",
       "      <td>52.143339</td>\n",
       "    </tr>\n",
       "  </tbody>\n",
       "</table>\n",
       "</div>"
      ],
      "text/plain": [
       "                     Age        tj  prior_injury   win_rec         IP  ws_pitcher  pitches_per_bat  pitches_per_game\n",
       "injury_lagged                                                                                                       \n",
       "0              29.405757  0.141133      0.375116  0.463073  80.101021    0.038997         3.875158         45.271916\n",
       "1              29.047414  0.200431      0.476293  0.515199  93.285345    0.032328         3.868595         52.143339"
      ]
     },
     "execution_count": 487,
     "metadata": {},
     "output_type": "execute_result"
    }
   ],
   "source": [
    "pitches_injury_2015.groupby(\"injury_lagged\").agg({\"Age\":\"mean\",\n",
    "                                           \"tj\":\"mean\",\n",
    "                                           \"prior_injury\":\"mean\",\n",
    "                                           \"win_rec\":\"mean\",\n",
    "                                           \"IP\":\"mean\",\n",
    "                                            \"ws_pitcher\":\"mean\",\n",
    "                                                 \"pitches_per_bat\":\"mean\",\n",
    "                                                 \"pitches_per_game\":\"mean\"})"
   ]
  },
  {
   "cell_type": "code",
   "execution_count": 451,
   "metadata": {},
   "outputs": [
    {
     "data": {
      "text/html": [
       "<div>\n",
       "<style scoped>\n",
       "    .dataframe tbody tr th:only-of-type {\n",
       "        vertical-align: middle;\n",
       "    }\n",
       "\n",
       "    .dataframe tbody tr th {\n",
       "        vertical-align: top;\n",
       "    }\n",
       "\n",
       "    .dataframe thead th {\n",
       "        text-align: right;\n",
       "    }\n",
       "</style>\n",
       "<table border=\"1\" class=\"dataframe\">\n",
       "  <thead>\n",
       "    <tr style=\"text-align: right;\">\n",
       "      <th></th>\n",
       "      <th>Age</th>\n",
       "      <th>tj</th>\n",
       "      <th>prior_injury</th>\n",
       "      <th>win_rec</th>\n",
       "      <th>IP</th>\n",
       "      <th>ws_pitcher</th>\n",
       "      <th>walk_rate</th>\n",
       "      <th>pitches_per_bat</th>\n",
       "      <th>pitches_per_game</th>\n",
       "    </tr>\n",
       "    <tr>\n",
       "      <th>injured</th>\n",
       "      <th></th>\n",
       "      <th></th>\n",
       "      <th></th>\n",
       "      <th></th>\n",
       "      <th></th>\n",
       "      <th></th>\n",
       "      <th></th>\n",
       "      <th></th>\n",
       "      <th></th>\n",
       "    </tr>\n",
       "  </thead>\n",
       "  <tbody>\n",
       "    <tr>\n",
       "      <td>0</td>\n",
       "      <td>27.294492</td>\n",
       "      <td>0.069915</td>\n",
       "      <td>0.322034</td>\n",
       "      <td>0.393254</td>\n",
       "      <td>58.812076</td>\n",
       "      <td>0.040254</td>\n",
       "      <td>0.091178</td>\n",
       "      <td>3.904123</td>\n",
       "      <td>39.880807</td>\n",
       "    </tr>\n",
       "    <tr>\n",
       "      <td>1</td>\n",
       "      <td>28.593607</td>\n",
       "      <td>0.178082</td>\n",
       "      <td>0.611872</td>\n",
       "      <td>0.405318</td>\n",
       "      <td>63.068037</td>\n",
       "      <td>0.091324</td>\n",
       "      <td>0.082516</td>\n",
       "      <td>3.893039</td>\n",
       "      <td>47.208188</td>\n",
       "    </tr>\n",
       "  </tbody>\n",
       "</table>\n",
       "</div>"
      ],
      "text/plain": [
       "               Age        tj  prior_injury   win_rec         IP  ws_pitcher  walk_rate  pitches_per_bat  pitches_per_game\n",
       "injured                                                                                                                  \n",
       "0        27.294492  0.069915      0.322034  0.393254  58.812076    0.040254   0.091178         3.904123         39.880807\n",
       "1        28.593607  0.178082      0.611872  0.405318  63.068037    0.091324   0.082516         3.893039         47.208188"
      ]
     },
     "execution_count": 451,
     "metadata": {},
     "output_type": "execute_result"
    }
   ],
   "source": [
    "pitches_injury_2019.groupby(\"injured\").agg({\"Age\":\"mean\",\n",
    "                                           \"tj\":\"mean\",\n",
    "                                           \"prior_injury\":\"mean\",\n",
    "                                           \"win_rec\":\"mean\",\n",
    "                                           \"IP\":\"mean\",\n",
    "                                            \"ws_pitcher\":\"mean\",\n",
    "                                                 \"walk_rate\":\"mean\",\n",
    "                                           \"pitches_per_bat\":\"mean\",\n",
    "                                           \"pitches_per_game\":\"mean\"})"
   ]
  },
  {
   "cell_type": "code",
   "execution_count": null,
   "metadata": {},
   "outputs": [],
   "source": [
    "pitches_injury_2015.groupby(\"Season\").agg({\"injury_lagged\":\"mean\"})"
   ]
  },
  {
   "cell_type": "code",
   "execution_count": null,
   "metadata": {},
   "outputs": [],
   "source": []
  }
 ],
 "metadata": {
  "kernelspec": {
   "display_name": "Python 3",
   "language": "python",
   "name": "python3"
  },
  "language_info": {
   "codemirror_mode": {
    "name": "ipython",
    "version": 3
   },
   "file_extension": ".py",
   "mimetype": "text/x-python",
   "name": "python",
   "nbconvert_exporter": "python",
   "pygments_lexer": "ipython3",
   "version": "3.7.4"
  }
 },
 "nbformat": 4,
 "nbformat_minor": 2
}
