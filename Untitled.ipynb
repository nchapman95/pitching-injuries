{
 "cells": [
  {
   "cell_type": "code",
   "execution_count": 1,
   "metadata": {},
   "outputs": [
    {
     "ename": "ERROR",
     "evalue": "Error in library(pitchRx): there is no package called ‘pitchRx’\n",
     "output_type": "error",
     "traceback": [
      "Error in library(pitchRx): there is no package called ‘pitchRx’\nTraceback:\n",
      "1. library(pitchRx)"
     ]
    }
   ],
   "source": [
    "library(pitchRx)"
   ]
  },
  {
   "cell_type": "code",
   "execution_count": 7,
   "metadata": {},
   "outputs": [
    {
     "ename": "ERROR",
     "evalue": "Error in install.packages(pitchRx): object 'pitchRx' not found\n",
     "output_type": "error",
     "traceback": [
      "Error in install.packages(pitchRx): object 'pitchRx' not found\nTraceback:\n",
      "1. install.packages(pitchRx)"
     ]
    }
   ],
   "source": [
    "install.packages(pitchRx)"
   ]
  },
  {
   "cell_type": "code",
   "execution_count": null,
   "metadata": {},
   "outputs": [],
   "source": []
  }
 ],
 "metadata": {
  "kernelspec": {
   "display_name": "R",
   "language": "R",
   "name": "ir"
  },
  "language_info": {
   "codemirror_mode": "r",
   "file_extension": ".r",
   "mimetype": "text/x-r-source",
   "name": "R",
   "pygments_lexer": "r",
   "version": "3.6.1"
  }
 },
 "nbformat": 4,
 "nbformat_minor": 4
}
